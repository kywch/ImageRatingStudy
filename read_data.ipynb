{
  "nbformat": 4,
  "nbformat_minor": 0,
  "metadata": {
    "colab": {
      "name": "read_data.ipynb",
      "provenance": [],
      "authorship_tag": "ABX9TyMW6gHfkWt1DICV2Fv709o7",
      "include_colab_link": true
    },
    "kernelspec": {
      "name": "python3",
      "display_name": "Python 3"
    }
  },
  "cells": [
    {
      "cell_type": "markdown",
      "metadata": {
        "id": "view-in-github",
        "colab_type": "text"
      },
      "source": [
        "<a href=\"https://colab.research.google.com/github/kywch/ImageRatingStudy/blob/master/read_data.ipynb\" target=\"_parent\"><img src=\"https://colab.research.google.com/assets/colab-badge.svg\" alt=\"Open In Colab\"/></a>"
      ]
    },
    {
      "cell_type": "markdown",
      "metadata": {
        "id": "jQ3OeyC_Q_Dw",
        "colab_type": "text"
      },
      "source": [
        "Please copy paste the result string below."
      ]
    },
    {
      "cell_type": "code",
      "metadata": {
        "id": "quXbskqyOLvX",
        "colab_type": "code",
        "colab": {
          "base_uri": "https://localhost:8080/",
          "height": 54
        },
        "outputId": "4826fbeb-b681-4580-daf2-15a77f3ac312"
      },
      "source": [
        "#@title String fields\n",
        "result_string = 'trial image11 image12 click rt;1 HPNt31 HPNt27 10 3398;2 HPUr35 HPUr44 01 2446;3 HPUr30 HPUr01 10 2478;4 HPNt16 HPNt09 10 2478;5 LPUr29 LPUr33 01 2446;6 HPNt03 HPNt39 10 2566;7 LPNt36 LPNt38 10 2414;8 HPUr25 HPUr41 10 2454;9 HPUr04 HPUr31 10 2686;10 LPUr18 LPUr40 10 2462;11 LPUr13 LPUr36 10 2646;12 LPUr08 LPUr23 01 2750;13 HPNt13 HPNt29 10 2590;14 LPNt23 LPNt37 10 2494;15 HPNt12 HPNt45 01 2382;16 HPNt05 HPNt34 01 2494;17 LPNt28 LPNt18 10 5494;18 LPNt34 LPNt29 01 30014;19 LPUr32 LPUr25 01 4039;20 LPUr21 LPUr37 01 2568;21 LPNt20 LPNt19 01 2550;22 LPNt41 LPNt24 01 2486;23 HPUr11 HPUr21 10 2486;24 LPUr34 LPUr26 01 2478;25 HPNt30 HPNt07 10 2462;26 LPNt26 LPNt06 10 2422;27 HPNt14 HPNt32 10 2406;28 HPUr34 HPUr16 10 2374;29 HPUr13 HPUr22 10 2478;30 LPNt22 LPNt30 01 2390;31 HPUr33 HPUr12 10 2391;32 HPUr05 HPUr20 10 2366;33 HPNt46 HPNt40 10 2382;34 LPNt42 LPNt33 01 2366;35 HPNt36 HPNt08 10 2446;36 HPUr39 HPUr03 10 2393;37 HPNt43 HPNt21 10 2395;38 HPNt23 HPNt25 10 2542;39 LPUr02 LPUr27 01 2408;40 HPNt24 HPNt11 01 2582;41 HPUr24 HPUr17 10 2446;42 LPUr15 LPUr19 10 2542;43 LPNt02 LPNt39 10 2510;44 LPUr10 LPUr43 10 2446;45 HPNt15 HPNt37 10 2430;46 HPUr42 HPUr15 10 2638;47 HPUr37 HPUr36 01 3926;48 LPUr45 LPUr16 10 3006;49 LPNt21 LPNt13 01 2446;50 LPNt03 LPNt25 10 2494;51 LPUr42 LPUr06 01 2382;52 LPUr24 LPUr17 10 2495;53 HPNt02 HPNt28 01 2605;54 LPUr05 LPUr31 01 2454;55 LPNt45 LPNt35 10 2422;56 HPUr46 HPUr29 01 2438;57 HPNt42 HPNt41 10 2502;58 HPUr14 HPUr18 10 2398;59 HPNt26 HPNt04 10 2406;60 LPUr03 LPUr35 10 2446;61 HPNt33 HPNt44 10 2446;62 LPNt44 LPNt16 01 2414;63 HPUr09 HPUr19 01 2630;64 LPNt27 LPNt46 01 2422;65 LPUr44 LPUr20 01 2414;66 HPNt35 HPNt01 01 2390;67 LPUr09 LPUr14 10 2414;68 LPUr30 LPUr04 01 2366;69 HPUr43 HPUr45 01 2478;70 LPNt15 LPNt10 01 2606;71 LPNt43 LPNt14 10 2422;72 LPNt01 LPNt05 10 2510;73 LPNt04 LPNt40 10 2398;74 HPUr02 HPUr28 10 2398;75 HPNt17 HPNt22 01 2422;76 LPNt09 LPNt08 10 2438;77 LPUr11 LPUr22 10 2438;78 LPNt11 LPNt07 10 2438;79 HPUr08 HPUr40 01 2510;80 LPUr46 LPUr01 01 2382;81 HPUr07 HPUr32 01 2438;82 LPUr38 LPUr12 10 2446;83 HPNt38 HPNt10 10 2454;84 HPUr23 HPUr27 01 2406;85 LPUr41 LPUr39 01 2462;86 LPUr07 LPUr28 01 2766;87 LPNt32 LPNt12 01 2478;88 HPUr06 HPUr26 01 2406;89 HPNt18 HPNt19 10 2374;90 HPUr38 HPUr10 01 2446;91 HPNt06 HPNt20 10 2470;92 LPNt17 LPNt31 10 2446;' #@param {type:\"string\"}\n",
        "print(result_string)\n"
      ],
      "execution_count": 3,
      "outputs": [
        {
          "output_type": "stream",
          "text": [
            "trial image11 image12 click rt;1 HPNt31 HPNt27 10 3398;2 HPUr35 HPUr44 01 2446;3 HPUr30 HPUr01 10 2478;4 HPNt16 HPNt09 10 2478;5 LPUr29 LPUr33 01 2446;6 HPNt03 HPNt39 10 2566;7 LPNt36 LPNt38 10 2414;8 HPUr25 HPUr41 10 2454;9 HPUr04 HPUr31 10 2686;10 LPUr18 LPUr40 10 2462;11 LPUr13 LPUr36 10 2646;12 LPUr08 LPUr23 01 2750;13 HPNt13 HPNt29 10 2590;14 LPNt23 LPNt37 10 2494;15 HPNt12 HPNt45 01 2382;16 HPNt05 HPNt34 01 2494;17 LPNt28 LPNt18 10 5494;18 LPNt34 LPNt29 01 30014;19 LPUr32 LPUr25 01 4039;20 LPUr21 LPUr37 01 2568;21 LPNt20 LPNt19 01 2550;22 LPNt41 LPNt24 01 2486;23 HPUr11 HPUr21 10 2486;24 LPUr34 LPUr26 01 2478;25 HPNt30 HPNt07 10 2462;26 LPNt26 LPNt06 10 2422;27 HPNt14 HPNt32 10 2406;28 HPUr34 HPUr16 10 2374;29 HPUr13 HPUr22 10 2478;30 LPNt22 LPNt30 01 2390;31 HPUr33 HPUr12 10 2391;32 HPUr05 HPUr20 10 2366;33 HPNt46 HPNt40 10 2382;34 LPNt42 LPNt33 01 2366;35 HPNt36 HPNt08 10 2446;36 HPUr39 HPUr03 10 2393;37 HPNt43 HPNt21 10 2395;38 HPNt23 HPNt25 10 2542;39 LPUr02 LPUr27 01 2408;40 HPNt24 HPNt11 01 2582;41 HPUr24 HPUr17 10 2446;42 LPUr15 LPUr19 10 2542;43 LPNt02 LPNt39 10 2510;44 LPUr10 LPUr43 10 2446;45 HPNt15 HPNt37 10 2430;46 HPUr42 HPUr15 10 2638;47 HPUr37 HPUr36 01 3926;48 LPUr45 LPUr16 10 3006;49 LPNt21 LPNt13 01 2446;50 LPNt03 LPNt25 10 2494;51 LPUr42 LPUr06 01 2382;52 LPUr24 LPUr17 10 2495;53 HPNt02 HPNt28 01 2605;54 LPUr05 LPUr31 01 2454;55 LPNt45 LPNt35 10 2422;56 HPUr46 HPUr29 01 2438;57 HPNt42 HPNt41 10 2502;58 HPUr14 HPUr18 10 2398;59 HPNt26 HPNt04 10 2406;60 LPUr03 LPUr35 10 2446;61 HPNt33 HPNt44 10 2446;62 LPNt44 LPNt16 01 2414;63 HPUr09 HPUr19 01 2630;64 LPNt27 LPNt46 01 2422;65 LPUr44 LPUr20 01 2414;66 HPNt35 HPNt01 01 2390;67 LPUr09 LPUr14 10 2414;68 LPUr30 LPUr04 01 2366;69 HPUr43 HPUr45 01 2478;70 LPNt15 LPNt10 01 2606;71 LPNt43 LPNt14 10 2422;72 LPNt01 LPNt05 10 2510;73 LPNt04 LPNt40 10 2398;74 HPUr02 HPUr28 10 2398;75 HPNt17 HPNt22 01 2422;76 LPNt09 LPNt08 10 2438;77 LPUr11 LPUr22 10 2438;78 LPNt11 LPNt07 10 2438;79 HPUr08 HPUr40 01 2510;80 LPUr46 LPUr01 01 2382;81 HPUr07 HPUr32 01 2438;82 LPUr38 LPUr12 10 2446;83 HPNt38 HPNt10 10 2454;84 HPUr23 HPUr27 01 2406;85 LPUr41 LPUr39 01 2462;86 LPUr07 LPUr28 01 2766;87 LPNt32 LPNt12 01 2478;88 HPUr06 HPUr26 01 2406;89 HPNt18 HPNt19 10 2374;90 HPUr38 HPUr10 01 2446;91 HPNt06 HPNt20 10 2470;92 LPNt17 LPNt31 10 2446;\n"
          ],
          "name": "stdout"
        }
      ]
    },
    {
      "cell_type": "code",
      "metadata": {
        "id": "X9Wg3P3WRP-m",
        "colab_type": "code",
        "colab": {
          "base_uri": "https://localhost:8080/",
          "height": 1000
        },
        "outputId": "13c70c5f-0931-4d68-d86e-da7363c4dc50"
      },
      "source": [
        "# delimiter - space (' '), newline - semicolon (';')\n",
        "\n",
        "result_csv = result_string.replace(';', '\\n').replace(' ', ',')\n",
        "print(result_csv)"
      ],
      "execution_count": 6,
      "outputs": [
        {
          "output_type": "stream",
          "text": [
            "trial,image11,image12,click,rt\n",
            "1,HPNt31,HPNt27,10,3398\n",
            "2,HPUr35,HPUr44,01,2446\n",
            "3,HPUr30,HPUr01,10,2478\n",
            "4,HPNt16,HPNt09,10,2478\n",
            "5,LPUr29,LPUr33,01,2446\n",
            "6,HPNt03,HPNt39,10,2566\n",
            "7,LPNt36,LPNt38,10,2414\n",
            "8,HPUr25,HPUr41,10,2454\n",
            "9,HPUr04,HPUr31,10,2686\n",
            "10,LPUr18,LPUr40,10,2462\n",
            "11,LPUr13,LPUr36,10,2646\n",
            "12,LPUr08,LPUr23,01,2750\n",
            "13,HPNt13,HPNt29,10,2590\n",
            "14,LPNt23,LPNt37,10,2494\n",
            "15,HPNt12,HPNt45,01,2382\n",
            "16,HPNt05,HPNt34,01,2494\n",
            "17,LPNt28,LPNt18,10,5494\n",
            "18,LPNt34,LPNt29,01,30014\n",
            "19,LPUr32,LPUr25,01,4039\n",
            "20,LPUr21,LPUr37,01,2568\n",
            "21,LPNt20,LPNt19,01,2550\n",
            "22,LPNt41,LPNt24,01,2486\n",
            "23,HPUr11,HPUr21,10,2486\n",
            "24,LPUr34,LPUr26,01,2478\n",
            "25,HPNt30,HPNt07,10,2462\n",
            "26,LPNt26,LPNt06,10,2422\n",
            "27,HPNt14,HPNt32,10,2406\n",
            "28,HPUr34,HPUr16,10,2374\n",
            "29,HPUr13,HPUr22,10,2478\n",
            "30,LPNt22,LPNt30,01,2390\n",
            "31,HPUr33,HPUr12,10,2391\n",
            "32,HPUr05,HPUr20,10,2366\n",
            "33,HPNt46,HPNt40,10,2382\n",
            "34,LPNt42,LPNt33,01,2366\n",
            "35,HPNt36,HPNt08,10,2446\n",
            "36,HPUr39,HPUr03,10,2393\n",
            "37,HPNt43,HPNt21,10,2395\n",
            "38,HPNt23,HPNt25,10,2542\n",
            "39,LPUr02,LPUr27,01,2408\n",
            "40,HPNt24,HPNt11,01,2582\n",
            "41,HPUr24,HPUr17,10,2446\n",
            "42,LPUr15,LPUr19,10,2542\n",
            "43,LPNt02,LPNt39,10,2510\n",
            "44,LPUr10,LPUr43,10,2446\n",
            "45,HPNt15,HPNt37,10,2430\n",
            "46,HPUr42,HPUr15,10,2638\n",
            "47,HPUr37,HPUr36,01,3926\n",
            "48,LPUr45,LPUr16,10,3006\n",
            "49,LPNt21,LPNt13,01,2446\n",
            "50,LPNt03,LPNt25,10,2494\n",
            "51,LPUr42,LPUr06,01,2382\n",
            "52,LPUr24,LPUr17,10,2495\n",
            "53,HPNt02,HPNt28,01,2605\n",
            "54,LPUr05,LPUr31,01,2454\n",
            "55,LPNt45,LPNt35,10,2422\n",
            "56,HPUr46,HPUr29,01,2438\n",
            "57,HPNt42,HPNt41,10,2502\n",
            "58,HPUr14,HPUr18,10,2398\n",
            "59,HPNt26,HPNt04,10,2406\n",
            "60,LPUr03,LPUr35,10,2446\n",
            "61,HPNt33,HPNt44,10,2446\n",
            "62,LPNt44,LPNt16,01,2414\n",
            "63,HPUr09,HPUr19,01,2630\n",
            "64,LPNt27,LPNt46,01,2422\n",
            "65,LPUr44,LPUr20,01,2414\n",
            "66,HPNt35,HPNt01,01,2390\n",
            "67,LPUr09,LPUr14,10,2414\n",
            "68,LPUr30,LPUr04,01,2366\n",
            "69,HPUr43,HPUr45,01,2478\n",
            "70,LPNt15,LPNt10,01,2606\n",
            "71,LPNt43,LPNt14,10,2422\n",
            "72,LPNt01,LPNt05,10,2510\n",
            "73,LPNt04,LPNt40,10,2398\n",
            "74,HPUr02,HPUr28,10,2398\n",
            "75,HPNt17,HPNt22,01,2422\n",
            "76,LPNt09,LPNt08,10,2438\n",
            "77,LPUr11,LPUr22,10,2438\n",
            "78,LPNt11,LPNt07,10,2438\n",
            "79,HPUr08,HPUr40,01,2510\n",
            "80,LPUr46,LPUr01,01,2382\n",
            "81,HPUr07,HPUr32,01,2438\n",
            "82,LPUr38,LPUr12,10,2446\n",
            "83,HPNt38,HPNt10,10,2454\n",
            "84,HPUr23,HPUr27,01,2406\n",
            "85,LPUr41,LPUr39,01,2462\n",
            "86,LPUr07,LPUr28,01,2766\n",
            "87,LPNt32,LPNt12,01,2478\n",
            "88,HPUr06,HPUr26,01,2406\n",
            "89,HPNt18,HPNt19,10,2374\n",
            "90,HPUr38,HPUr10,01,2446\n",
            "91,HPNt06,HPNt20,10,2470\n",
            "92,LPNt17,LPNt31,10,2446\n",
            "\n"
          ],
          "name": "stdout"
        }
      ]
    },
    {
      "cell_type": "code",
      "metadata": {
        "id": "WVKVYJ7tRgsC",
        "colab_type": "code",
        "colab": {}
      },
      "source": [
        "import pandas as pd\n",
        "from io import StringIO\n",
        "\n",
        "result_df = pd.read_csv(StringIO(result_csv))"
      ],
      "execution_count": 16,
      "outputs": []
    },
    {
      "cell_type": "code",
      "metadata": {
        "id": "YYxAfqC8SgvP",
        "colab_type": "code",
        "colab": {}
      },
      "source": [
        "result_df['click'] = result_df.click.astype(str).str.zfill(2)"
      ],
      "execution_count": 17,
      "outputs": []
    },
    {
      "cell_type": "code",
      "metadata": {
        "id": "YT13C5N3TGmf",
        "colab_type": "code",
        "colab": {
          "base_uri": "https://localhost:8080/",
          "height": 204
        },
        "outputId": "89996126-0be9-4acb-b3bb-ec9281b4a220"
      },
      "source": [
        "result_df.head()"
      ],
      "execution_count": 18,
      "outputs": [
        {
          "output_type": "execute_result",
          "data": {
            "text/html": [
              "<div>\n",
              "<style scoped>\n",
              "    .dataframe tbody tr th:only-of-type {\n",
              "        vertical-align: middle;\n",
              "    }\n",
              "\n",
              "    .dataframe tbody tr th {\n",
              "        vertical-align: top;\n",
              "    }\n",
              "\n",
              "    .dataframe thead th {\n",
              "        text-align: right;\n",
              "    }\n",
              "</style>\n",
              "<table border=\"1\" class=\"dataframe\">\n",
              "  <thead>\n",
              "    <tr style=\"text-align: right;\">\n",
              "      <th></th>\n",
              "      <th>trial</th>\n",
              "      <th>image11</th>\n",
              "      <th>image12</th>\n",
              "      <th>click</th>\n",
              "      <th>rt</th>\n",
              "    </tr>\n",
              "  </thead>\n",
              "  <tbody>\n",
              "    <tr>\n",
              "      <th>0</th>\n",
              "      <td>1</td>\n",
              "      <td>HPNt31</td>\n",
              "      <td>HPNt27</td>\n",
              "      <td>10</td>\n",
              "      <td>3398</td>\n",
              "    </tr>\n",
              "    <tr>\n",
              "      <th>1</th>\n",
              "      <td>2</td>\n",
              "      <td>HPUr35</td>\n",
              "      <td>HPUr44</td>\n",
              "      <td>01</td>\n",
              "      <td>2446</td>\n",
              "    </tr>\n",
              "    <tr>\n",
              "      <th>2</th>\n",
              "      <td>3</td>\n",
              "      <td>HPUr30</td>\n",
              "      <td>HPUr01</td>\n",
              "      <td>10</td>\n",
              "      <td>2478</td>\n",
              "    </tr>\n",
              "    <tr>\n",
              "      <th>3</th>\n",
              "      <td>4</td>\n",
              "      <td>HPNt16</td>\n",
              "      <td>HPNt09</td>\n",
              "      <td>10</td>\n",
              "      <td>2478</td>\n",
              "    </tr>\n",
              "    <tr>\n",
              "      <th>4</th>\n",
              "      <td>5</td>\n",
              "      <td>LPUr29</td>\n",
              "      <td>LPUr33</td>\n",
              "      <td>01</td>\n",
              "      <td>2446</td>\n",
              "    </tr>\n",
              "  </tbody>\n",
              "</table>\n",
              "</div>"
            ],
            "text/plain": [
              "   trial image11 image12 click    rt\n",
              "0      1  HPNt31  HPNt27    10  3398\n",
              "1      2  HPUr35  HPUr44    01  2446\n",
              "2      3  HPUr30  HPUr01    10  2478\n",
              "3      4  HPNt16  HPNt09    10  2478\n",
              "4      5  LPUr29  LPUr33    01  2446"
            ]
          },
          "metadata": {
            "tags": []
          },
          "execution_count": 18
        }
      ]
    },
    {
      "cell_type": "code",
      "metadata": {
        "id": "_0g2Ypsoauxj",
        "colab_type": "code",
        "colab": {
          "base_uri": "https://localhost:8080/",
          "height": 34
        },
        "outputId": "32aca421-0e9c-44c2-d1fe-37b0e028a604"
      },
      "source": [
        "[col for col in result_df.columns if \"image\" in col]"
      ],
      "execution_count": 42,
      "outputs": [
        {
          "output_type": "execute_result",
          "data": {
            "text/plain": [
              "['image11', 'image12']"
            ]
          },
          "metadata": {
            "tags": []
          },
          "execution_count": 42
        }
      ]
    },
    {
      "cell_type": "code",
      "metadata": {
        "id": "RzLMzVdcTgu1",
        "colab_type": "code",
        "colab": {
          "base_uri": "https://localhost:8080/",
          "height": 272
        },
        "outputId": "78b0514d-d167-4f31-f05b-db1ebc82ca83"
      },
      "source": [
        "# make it tidy\n",
        "# trial, row, col, image, click\n",
        "\n",
        "tmp_df = pd.melt(result_df, id_vars=['trial','click'], \n",
        "                 value_vars=[col for col in result_df.columns if \"image\" in col], \n",
        "                 var_name='image_pos', value_name='image_name')\n",
        "tmp_df['row'] = tmp_df['image_pos'].apply(lambda x: x[5]).astype(int)-1\n",
        "tmp_df['col'] = tmp_df['image_pos'].apply(lambda x: x[6]).astype(int)-1\n",
        "tmp_df['pos'] = tmp_df['row']*4 + tmp_df['col']\n",
        "\n",
        "tmp_df['select'] = tmp_df.apply(lambda x: x['click'][x.pos], axis=1)\n",
        "\n",
        "tmp_df.info()\n",
        "\n"
      ],
      "execution_count": 43,
      "outputs": [
        {
          "output_type": "stream",
          "text": [
            "<class 'pandas.core.frame.DataFrame'>\n",
            "RangeIndex: 184 entries, 0 to 183\n",
            "Data columns (total 8 columns):\n",
            " #   Column      Non-Null Count  Dtype \n",
            "---  ------      --------------  ----- \n",
            " 0   trial       184 non-null    int64 \n",
            " 1   click       184 non-null    object\n",
            " 2   image_pos   184 non-null    object\n",
            " 3   image_name  184 non-null    object\n",
            " 4   row         184 non-null    int64 \n",
            " 5   col         184 non-null    int64 \n",
            " 6   pos         184 non-null    int64 \n",
            " 7   select      184 non-null    object\n",
            "dtypes: int64(4), object(4)\n",
            "memory usage: 11.6+ KB\n"
          ],
          "name": "stdout"
        }
      ]
    },
    {
      "cell_type": "code",
      "metadata": {
        "id": "l6JnZgQpVDvU",
        "colab_type": "code",
        "colab": {
          "base_uri": "https://localhost:8080/",
          "height": 419
        },
        "outputId": "28643bae-5c9b-4e56-94e5-caf5f3f874b6"
      },
      "source": [
        "tmp_df"
      ],
      "execution_count": 44,
      "outputs": [
        {
          "output_type": "execute_result",
          "data": {
            "text/html": [
              "<div>\n",
              "<style scoped>\n",
              "    .dataframe tbody tr th:only-of-type {\n",
              "        vertical-align: middle;\n",
              "    }\n",
              "\n",
              "    .dataframe tbody tr th {\n",
              "        vertical-align: top;\n",
              "    }\n",
              "\n",
              "    .dataframe thead th {\n",
              "        text-align: right;\n",
              "    }\n",
              "</style>\n",
              "<table border=\"1\" class=\"dataframe\">\n",
              "  <thead>\n",
              "    <tr style=\"text-align: right;\">\n",
              "      <th></th>\n",
              "      <th>trial</th>\n",
              "      <th>click</th>\n",
              "      <th>image_pos</th>\n",
              "      <th>image_name</th>\n",
              "      <th>row</th>\n",
              "      <th>col</th>\n",
              "      <th>pos</th>\n",
              "      <th>select</th>\n",
              "    </tr>\n",
              "  </thead>\n",
              "  <tbody>\n",
              "    <tr>\n",
              "      <th>0</th>\n",
              "      <td>1</td>\n",
              "      <td>10</td>\n",
              "      <td>image11</td>\n",
              "      <td>HPNt31</td>\n",
              "      <td>0</td>\n",
              "      <td>0</td>\n",
              "      <td>0</td>\n",
              "      <td>1</td>\n",
              "    </tr>\n",
              "    <tr>\n",
              "      <th>1</th>\n",
              "      <td>2</td>\n",
              "      <td>01</td>\n",
              "      <td>image11</td>\n",
              "      <td>HPUr35</td>\n",
              "      <td>0</td>\n",
              "      <td>0</td>\n",
              "      <td>0</td>\n",
              "      <td>0</td>\n",
              "    </tr>\n",
              "    <tr>\n",
              "      <th>2</th>\n",
              "      <td>3</td>\n",
              "      <td>10</td>\n",
              "      <td>image11</td>\n",
              "      <td>HPUr30</td>\n",
              "      <td>0</td>\n",
              "      <td>0</td>\n",
              "      <td>0</td>\n",
              "      <td>1</td>\n",
              "    </tr>\n",
              "    <tr>\n",
              "      <th>3</th>\n",
              "      <td>4</td>\n",
              "      <td>10</td>\n",
              "      <td>image11</td>\n",
              "      <td>HPNt16</td>\n",
              "      <td>0</td>\n",
              "      <td>0</td>\n",
              "      <td>0</td>\n",
              "      <td>1</td>\n",
              "    </tr>\n",
              "    <tr>\n",
              "      <th>4</th>\n",
              "      <td>5</td>\n",
              "      <td>01</td>\n",
              "      <td>image11</td>\n",
              "      <td>LPUr29</td>\n",
              "      <td>0</td>\n",
              "      <td>0</td>\n",
              "      <td>0</td>\n",
              "      <td>0</td>\n",
              "    </tr>\n",
              "    <tr>\n",
              "      <th>...</th>\n",
              "      <td>...</td>\n",
              "      <td>...</td>\n",
              "      <td>...</td>\n",
              "      <td>...</td>\n",
              "      <td>...</td>\n",
              "      <td>...</td>\n",
              "      <td>...</td>\n",
              "      <td>...</td>\n",
              "    </tr>\n",
              "    <tr>\n",
              "      <th>179</th>\n",
              "      <td>88</td>\n",
              "      <td>01</td>\n",
              "      <td>image12</td>\n",
              "      <td>HPUr26</td>\n",
              "      <td>0</td>\n",
              "      <td>1</td>\n",
              "      <td>1</td>\n",
              "      <td>1</td>\n",
              "    </tr>\n",
              "    <tr>\n",
              "      <th>180</th>\n",
              "      <td>89</td>\n",
              "      <td>10</td>\n",
              "      <td>image12</td>\n",
              "      <td>HPNt19</td>\n",
              "      <td>0</td>\n",
              "      <td>1</td>\n",
              "      <td>1</td>\n",
              "      <td>0</td>\n",
              "    </tr>\n",
              "    <tr>\n",
              "      <th>181</th>\n",
              "      <td>90</td>\n",
              "      <td>01</td>\n",
              "      <td>image12</td>\n",
              "      <td>HPUr10</td>\n",
              "      <td>0</td>\n",
              "      <td>1</td>\n",
              "      <td>1</td>\n",
              "      <td>1</td>\n",
              "    </tr>\n",
              "    <tr>\n",
              "      <th>182</th>\n",
              "      <td>91</td>\n",
              "      <td>10</td>\n",
              "      <td>image12</td>\n",
              "      <td>HPNt20</td>\n",
              "      <td>0</td>\n",
              "      <td>1</td>\n",
              "      <td>1</td>\n",
              "      <td>0</td>\n",
              "    </tr>\n",
              "    <tr>\n",
              "      <th>183</th>\n",
              "      <td>92</td>\n",
              "      <td>10</td>\n",
              "      <td>image12</td>\n",
              "      <td>LPNt31</td>\n",
              "      <td>0</td>\n",
              "      <td>1</td>\n",
              "      <td>1</td>\n",
              "      <td>0</td>\n",
              "    </tr>\n",
              "  </tbody>\n",
              "</table>\n",
              "<p>184 rows × 8 columns</p>\n",
              "</div>"
            ],
            "text/plain": [
              "     trial click image_pos image_name  row  col  pos select\n",
              "0        1    10   image11     HPNt31    0    0    0      1\n",
              "1        2    01   image11     HPUr35    0    0    0      0\n",
              "2        3    10   image11     HPUr30    0    0    0      1\n",
              "3        4    10   image11     HPNt16    0    0    0      1\n",
              "4        5    01   image11     LPUr29    0    0    0      0\n",
              "..     ...   ...       ...        ...  ...  ...  ...    ...\n",
              "179     88    01   image12     HPUr26    0    1    1      1\n",
              "180     89    10   image12     HPNt19    0    1    1      0\n",
              "181     90    01   image12     HPUr10    0    1    1      1\n",
              "182     91    10   image12     HPNt20    0    1    1      0\n",
              "183     92    10   image12     LPNt31    0    1    1      0\n",
              "\n",
              "[184 rows x 8 columns]"
            ]
          },
          "metadata": {
            "tags": []
          },
          "execution_count": 44
        }
      ]
    },
    {
      "cell_type": "code",
      "metadata": {
        "id": "ElIvXuHvVGbn",
        "colab_type": "code",
        "colab": {}
      },
      "source": [
        ""
      ],
      "execution_count": null,
      "outputs": []
    }
  ]
}