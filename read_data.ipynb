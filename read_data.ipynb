{
  "nbformat": 4,
  "nbformat_minor": 0,
  "metadata": {
    "colab": {
      "name": "read_data.ipynb",
      "provenance": [],
      "authorship_tag": "ABX9TyOsDsUaue9PnMGYLNXXpJOG",
      "include_colab_link": true
    },
    "kernelspec": {
      "name": "python3",
      "display_name": "Python 3"
    }
  },
  "cells": [
    {
      "cell_type": "markdown",
      "metadata": {
        "id": "view-in-github",
        "colab_type": "text"
      },
      "source": [
        "<a href=\"https://colab.research.google.com/github/kywch/ImageRatingStudy/blob/master/read_data.ipynb\" target=\"_parent\"><img src=\"https://colab.research.google.com/assets/colab-badge.svg\" alt=\"Open In Colab\"/></a>"
      ]
    },
    {
      "cell_type": "markdown",
      "metadata": {
        "id": "jQ3OeyC_Q_Dw",
        "colab_type": "text"
      },
      "source": [
        "Please copy paste the result string below."
      ]
    },
    {
      "cell_type": "code",
      "metadata": {
        "id": "quXbskqyOLvX",
        "colab_type": "code",
        "colab": {}
      },
      "source": [
        "#@title String fields\n",
        "result_string = '   trial image11 image12 image13 image14 image21 image22 image23 image24 image31 image32 image33 image34 click rt;1 LPNt45 LPNt23 LPNt03 LPNt44 LPNt06 LPNt01 LPNt09 LPNt20 LPNt33 LPNt10 LPNt31 LPNt36 111100000000 9348;2 HPUr05 HPUr37 HPUr06 HPUr22 HPUr35 HPUr11 HPUr15 HPUr42 HPUr03 HPUr09 HPUr20 HPUr17 111100000000 8486;3 LPUr21 LPUr01 LPUr23 LPUr07 LPUr27 LPUr44 LPUr40 LPUr24 LPUr13 LPUr99 LPUr26 LPUr39 000011110000 8690;4 HPNt38 HPNt99 HPNt35 HPNt29 HPNt42 HPNt04 HPNt37 HPNt06 HPNt40 HPNt13 HPNt22 HPNt07 000011110000 9291;5 LPNt42 LPNt11 LPNt21 LPNt05 LPNt39 LPNt04 LPNt18 LPNt13 LPNt19 LPNt02 LPNt17 LPNt99 000011110000 8667;6 HPUr46 HPUr28 HPUr45 HPUr26 HPUr36 HPUr07 HPUr12 HPUr25 HPUr10 HPUr01 HPUr23 HPUr16 000011110000 8851;7 LPNt28 LPNt30 LPNt34 LPNt37 LPNt14 LPNt35 LPNt99 LPNt32 LPNt15 LPNt26 LPNt07 LPNt12 000011000110 8805;8 LPNt25 LPNt08 LPNt43 LPNt38 LPNt27 LPNt46 LPNt40 LPNt29 LPNt24 LPNt41 LPNt16 LPNt22 000011110000 8916;9 HPNt33 HPNt19 HPNt28 HPNt27 HPNt21 HPNt17 HPNt11 HPNt34 HPNt18 HPNt45 HPNt24 HPNt16 000011110000 8988;10 HPUr39 HPUr99 HPUr43 HPUr44 HPUr32 HPUr02 HPUr29 HPUr13 HPUr30 HPUr24 HPUr08 HPUr34 000011110000 8484;11 HPNt44 HPNt26 HPNt03 HPNt02 HPNt31 HPNt30 HPNt20 HPNt15 HPNt39 HPNt10 HPNt46 HPNt12 000011110000 8531;12 LPUr10 LPUr08 LPUr42 LPUr22 LPUr19 LPUr37 LPUr02 LPUr14 LPUr43 LPUr30 LPUr17 LPUr11 000011110000 8787;13 HPUr04 HPUr38 HPUr31 HPUr41 HPUr18 HPUr40 HPUr19 HPUr14 HPUr21 HPUr27 HPUr99 HPUr33 000011110000 8478;14 LPUr15 LPUr41 LPUr34 LPUr05 LPUr25 LPUr36 LPUr12 LPUr18 LPUr45 LPUr04 LPUr35 LPUr28 000011110000 8420;15 HPNt01 HPNt99 HPNt25 HPNt08 HPNt41 HPNt23 HPNt43 HPNt14 HPNt32 HPNt05 HPNt09 HPNt36 000011110000 8724;16 LPUr32 LPUr16 LPUr03 LPUr29 LPUr31 LPUr20 LPUr33 LPUr99 LPUr09 LPUr46 LPUr38 LPUr06 000011100010 8444;' #@param {type:\"string\"}\n"
      ],
      "execution_count": 20,
      "outputs": []
    },
    {
      "cell_type": "code",
      "metadata": {
        "id": "X9Wg3P3WRP-m",
        "colab_type": "code",
        "colab": {
          "base_uri": "https://localhost:8080/",
          "height": 336
        },
        "outputId": "ed28fdf7-9fd9-487b-bdfc-321a899a0584"
      },
      "source": [
        "# delimiter - space (' '), newline - semicolon (';')\n",
        "\n",
        "result_csv = result_string.strip().replace(';', '\\n').replace(' ', ',')\n",
        "print(result_csv)"
      ],
      "execution_count": 21,
      "outputs": [
        {
          "output_type": "stream",
          "text": [
            "trial,image11,image12,image13,image14,image21,image22,image23,image24,image31,image32,image33,image34,click,rt\n",
            "1,LPNt45,LPNt23,LPNt03,LPNt44,LPNt06,LPNt01,LPNt09,LPNt20,LPNt33,LPNt10,LPNt31,LPNt36,111100000000,9348\n",
            "2,HPUr05,HPUr37,HPUr06,HPUr22,HPUr35,HPUr11,HPUr15,HPUr42,HPUr03,HPUr09,HPUr20,HPUr17,111100000000,8486\n",
            "3,LPUr21,LPUr01,LPUr23,LPUr07,LPUr27,LPUr44,LPUr40,LPUr24,LPUr13,LPUr99,LPUr26,LPUr39,000011110000,8690\n",
            "4,HPNt38,HPNt99,HPNt35,HPNt29,HPNt42,HPNt04,HPNt37,HPNt06,HPNt40,HPNt13,HPNt22,HPNt07,000011110000,9291\n",
            "5,LPNt42,LPNt11,LPNt21,LPNt05,LPNt39,LPNt04,LPNt18,LPNt13,LPNt19,LPNt02,LPNt17,LPNt99,000011110000,8667\n",
            "6,HPUr46,HPUr28,HPUr45,HPUr26,HPUr36,HPUr07,HPUr12,HPUr25,HPUr10,HPUr01,HPUr23,HPUr16,000011110000,8851\n",
            "7,LPNt28,LPNt30,LPNt34,LPNt37,LPNt14,LPNt35,LPNt99,LPNt32,LPNt15,LPNt26,LPNt07,LPNt12,000011000110,8805\n",
            "8,LPNt25,LPNt08,LPNt43,LPNt38,LPNt27,LPNt46,LPNt40,LPNt29,LPNt24,LPNt41,LPNt16,LPNt22,000011110000,8916\n",
            "9,HPNt33,HPNt19,HPNt28,HPNt27,HPNt21,HPNt17,HPNt11,HPNt34,HPNt18,HPNt45,HPNt24,HPNt16,000011110000,8988\n",
            "10,HPUr39,HPUr99,HPUr43,HPUr44,HPUr32,HPUr02,HPUr29,HPUr13,HPUr30,HPUr24,HPUr08,HPUr34,000011110000,8484\n",
            "11,HPNt44,HPNt26,HPNt03,HPNt02,HPNt31,HPNt30,HPNt20,HPNt15,HPNt39,HPNt10,HPNt46,HPNt12,000011110000,8531\n",
            "12,LPUr10,LPUr08,LPUr42,LPUr22,LPUr19,LPUr37,LPUr02,LPUr14,LPUr43,LPUr30,LPUr17,LPUr11,000011110000,8787\n",
            "13,HPUr04,HPUr38,HPUr31,HPUr41,HPUr18,HPUr40,HPUr19,HPUr14,HPUr21,HPUr27,HPUr99,HPUr33,000011110000,8478\n",
            "14,LPUr15,LPUr41,LPUr34,LPUr05,LPUr25,LPUr36,LPUr12,LPUr18,LPUr45,LPUr04,LPUr35,LPUr28,000011110000,8420\n",
            "15,HPNt01,HPNt99,HPNt25,HPNt08,HPNt41,HPNt23,HPNt43,HPNt14,HPNt32,HPNt05,HPNt09,HPNt36,000011110000,8724\n",
            "16,LPUr32,LPUr16,LPUr03,LPUr29,LPUr31,LPUr20,LPUr33,LPUr99,LPUr09,LPUr46,LPUr38,LPUr06,000011100010,8444\n",
            "\n"
          ],
          "name": "stdout"
        }
      ]
    },
    {
      "cell_type": "code",
      "metadata": {
        "id": "WVKVYJ7tRgsC",
        "colab_type": "code",
        "colab": {}
      },
      "source": [
        "import pandas as pd\n",
        "from io import StringIO\n",
        "\n",
        "result_df = pd.read_csv(StringIO(result_csv))"
      ],
      "execution_count": 22,
      "outputs": []
    },
    {
      "cell_type": "code",
      "metadata": {
        "id": "MJmnLv6lde_M",
        "colab_type": "code",
        "colab": {
          "base_uri": "https://localhost:8080/",
          "height": 230
        },
        "outputId": "34ec61e6-c8ad-4cc1-a6dc-cbd1075fc181"
      },
      "source": [
        "image_cols = [col for col in result_df.columns if \"image\" in col]\n",
        "image_cols"
      ],
      "execution_count": 23,
      "outputs": [
        {
          "output_type": "execute_result",
          "data": {
            "text/plain": [
              "['image11',\n",
              " 'image12',\n",
              " 'image13',\n",
              " 'image14',\n",
              " 'image21',\n",
              " 'image22',\n",
              " 'image23',\n",
              " 'image24',\n",
              " 'image31',\n",
              " 'image32',\n",
              " 'image33',\n",
              " 'image34']"
            ]
          },
          "metadata": {
            "tags": []
          },
          "execution_count": 23
        }
      ]
    },
    {
      "cell_type": "code",
      "metadata": {
        "id": "YYxAfqC8SgvP",
        "colab_type": "code",
        "colab": {}
      },
      "source": [
        "result_df['click'] = result_df.click.astype(str).str.zfill(len(image_cols))"
      ],
      "execution_count": 24,
      "outputs": []
    },
    {
      "cell_type": "code",
      "metadata": {
        "id": "YT13C5N3TGmf",
        "colab_type": "code",
        "colab": {
          "base_uri": "https://localhost:8080/",
          "height": 197
        },
        "outputId": "627125bb-c22b-41d7-99d0-fab6ba001ccb"
      },
      "source": [
        "result_df.head()"
      ],
      "execution_count": 25,
      "outputs": [
        {
          "output_type": "execute_result",
          "data": {
            "text/html": [
              "<div>\n",
              "<style scoped>\n",
              "    .dataframe tbody tr th:only-of-type {\n",
              "        vertical-align: middle;\n",
              "    }\n",
              "\n",
              "    .dataframe tbody tr th {\n",
              "        vertical-align: top;\n",
              "    }\n",
              "\n",
              "    .dataframe thead th {\n",
              "        text-align: right;\n",
              "    }\n",
              "</style>\n",
              "<table border=\"1\" class=\"dataframe\">\n",
              "  <thead>\n",
              "    <tr style=\"text-align: right;\">\n",
              "      <th></th>\n",
              "      <th>trial</th>\n",
              "      <th>image11</th>\n",
              "      <th>image12</th>\n",
              "      <th>image13</th>\n",
              "      <th>image14</th>\n",
              "      <th>image21</th>\n",
              "      <th>image22</th>\n",
              "      <th>image23</th>\n",
              "      <th>image24</th>\n",
              "      <th>image31</th>\n",
              "      <th>image32</th>\n",
              "      <th>image33</th>\n",
              "      <th>image34</th>\n",
              "      <th>click</th>\n",
              "      <th>rt</th>\n",
              "    </tr>\n",
              "  </thead>\n",
              "  <tbody>\n",
              "    <tr>\n",
              "      <th>0</th>\n",
              "      <td>1</td>\n",
              "      <td>LPNt45</td>\n",
              "      <td>LPNt23</td>\n",
              "      <td>LPNt03</td>\n",
              "      <td>LPNt44</td>\n",
              "      <td>LPNt06</td>\n",
              "      <td>LPNt01</td>\n",
              "      <td>LPNt09</td>\n",
              "      <td>LPNt20</td>\n",
              "      <td>LPNt33</td>\n",
              "      <td>LPNt10</td>\n",
              "      <td>LPNt31</td>\n",
              "      <td>LPNt36</td>\n",
              "      <td>111100000000</td>\n",
              "      <td>9348</td>\n",
              "    </tr>\n",
              "    <tr>\n",
              "      <th>1</th>\n",
              "      <td>2</td>\n",
              "      <td>HPUr05</td>\n",
              "      <td>HPUr37</td>\n",
              "      <td>HPUr06</td>\n",
              "      <td>HPUr22</td>\n",
              "      <td>HPUr35</td>\n",
              "      <td>HPUr11</td>\n",
              "      <td>HPUr15</td>\n",
              "      <td>HPUr42</td>\n",
              "      <td>HPUr03</td>\n",
              "      <td>HPUr09</td>\n",
              "      <td>HPUr20</td>\n",
              "      <td>HPUr17</td>\n",
              "      <td>111100000000</td>\n",
              "      <td>8486</td>\n",
              "    </tr>\n",
              "    <tr>\n",
              "      <th>2</th>\n",
              "      <td>3</td>\n",
              "      <td>LPUr21</td>\n",
              "      <td>LPUr01</td>\n",
              "      <td>LPUr23</td>\n",
              "      <td>LPUr07</td>\n",
              "      <td>LPUr27</td>\n",
              "      <td>LPUr44</td>\n",
              "      <td>LPUr40</td>\n",
              "      <td>LPUr24</td>\n",
              "      <td>LPUr13</td>\n",
              "      <td>LPUr99</td>\n",
              "      <td>LPUr26</td>\n",
              "      <td>LPUr39</td>\n",
              "      <td>000011110000</td>\n",
              "      <td>8690</td>\n",
              "    </tr>\n",
              "    <tr>\n",
              "      <th>3</th>\n",
              "      <td>4</td>\n",
              "      <td>HPNt38</td>\n",
              "      <td>HPNt99</td>\n",
              "      <td>HPNt35</td>\n",
              "      <td>HPNt29</td>\n",
              "      <td>HPNt42</td>\n",
              "      <td>HPNt04</td>\n",
              "      <td>HPNt37</td>\n",
              "      <td>HPNt06</td>\n",
              "      <td>HPNt40</td>\n",
              "      <td>HPNt13</td>\n",
              "      <td>HPNt22</td>\n",
              "      <td>HPNt07</td>\n",
              "      <td>000011110000</td>\n",
              "      <td>9291</td>\n",
              "    </tr>\n",
              "    <tr>\n",
              "      <th>4</th>\n",
              "      <td>5</td>\n",
              "      <td>LPNt42</td>\n",
              "      <td>LPNt11</td>\n",
              "      <td>LPNt21</td>\n",
              "      <td>LPNt05</td>\n",
              "      <td>LPNt39</td>\n",
              "      <td>LPNt04</td>\n",
              "      <td>LPNt18</td>\n",
              "      <td>LPNt13</td>\n",
              "      <td>LPNt19</td>\n",
              "      <td>LPNt02</td>\n",
              "      <td>LPNt17</td>\n",
              "      <td>LPNt99</td>\n",
              "      <td>000011110000</td>\n",
              "      <td>8667</td>\n",
              "    </tr>\n",
              "  </tbody>\n",
              "</table>\n",
              "</div>"
            ],
            "text/plain": [
              "   trial image11 image12 image13  ... image33 image34         click    rt\n",
              "0      1  LPNt45  LPNt23  LPNt03  ...  LPNt31  LPNt36  111100000000  9348\n",
              "1      2  HPUr05  HPUr37  HPUr06  ...  HPUr20  HPUr17  111100000000  8486\n",
              "2      3  LPUr21  LPUr01  LPUr23  ...  LPUr26  LPUr39  000011110000  8690\n",
              "3      4  HPNt38  HPNt99  HPNt35  ...  HPNt22  HPNt07  000011110000  9291\n",
              "4      5  LPNt42  LPNt11  LPNt21  ...  LPNt17  LPNt99  000011110000  8667\n",
              "\n",
              "[5 rows x 15 columns]"
            ]
          },
          "metadata": {
            "tags": []
          },
          "execution_count": 25
        }
      ]
    },
    {
      "cell_type": "code",
      "metadata": {
        "id": "RzLMzVdcTgu1",
        "colab_type": "code",
        "colab": {
          "base_uri": "https://localhost:8080/",
          "height": 272
        },
        "outputId": "0f5319de-9e5f-45c9-8da0-b7296c4a7bb4"
      },
      "source": [
        "# make it tidy\n",
        "# trial, row, col, image, click\n",
        "\n",
        "tmp_df = pd.melt(result_df, id_vars=['trial','click'], value_vars=image_cols, \n",
        "                 var_name='image_pos', value_name='image_name')\n",
        "tmp_df['row'] = tmp_df['image_pos'].apply(lambda x: x[5]).astype(int)-1\n",
        "tmp_df['col'] = tmp_df['image_pos'].apply(lambda x: x[6]).astype(int)-1\n",
        "tmp_df['pos'] = tmp_df['row']*4 + tmp_df['col']\n",
        "\n",
        "# whether the image was clicked or not\n",
        "tmp_df['select'] = tmp_df.apply(lambda x: (x['click'][x.pos] == '1'), axis=1)\n"
      ],
      "execution_count": null,
      "outputs": [
        {
          "output_type": "stream",
          "text": [
            "<class 'pandas.core.frame.DataFrame'>\n",
            "RangeIndex: 192 entries, 0 to 191\n",
            "Data columns (total 8 columns):\n",
            " #   Column      Non-Null Count  Dtype \n",
            "---  ------      --------------  ----- \n",
            " 0   trial       192 non-null    int64 \n",
            " 1   click       192 non-null    object\n",
            " 2   image_pos   192 non-null    object\n",
            " 3   image_name  192 non-null    object\n",
            " 4   row         192 non-null    int64 \n",
            " 5   col         192 non-null    int64 \n",
            " 6   pos         192 non-null    int64 \n",
            " 7   select      192 non-null    bool  \n",
            "dtypes: bool(1), int64(4), object(3)\n",
            "memory usage: 10.8+ KB\n"
          ],
          "name": "stdout"
        }
      ]
    },
    {
      "cell_type": "code",
      "metadata": {
        "id": "l6JnZgQpVDvU",
        "colab_type": "code",
        "colab": {
          "base_uri": "https://localhost:8080/",
          "height": 204
        },
        "outputId": "128f926b-c8d0-4fae-d5f4-4c383320bdbe"
      },
      "source": [
        "select_col = ['trial', 'row', 'col', 'image_name', 'select']\n",
        "tidy_df = tmp_df[select_col].sort_values(by=select_col[:2], ignore_index=True)\n",
        "tidy_df.head()"
      ],
      "execution_count": null,
      "outputs": [
        {
          "output_type": "execute_result",
          "data": {
            "text/html": [
              "<div>\n",
              "<style scoped>\n",
              "    .dataframe tbody tr th:only-of-type {\n",
              "        vertical-align: middle;\n",
              "    }\n",
              "\n",
              "    .dataframe tbody tr th {\n",
              "        vertical-align: top;\n",
              "    }\n",
              "\n",
              "    .dataframe thead th {\n",
              "        text-align: right;\n",
              "    }\n",
              "</style>\n",
              "<table border=\"1\" class=\"dataframe\">\n",
              "  <thead>\n",
              "    <tr style=\"text-align: right;\">\n",
              "      <th></th>\n",
              "      <th>trial</th>\n",
              "      <th>row</th>\n",
              "      <th>col</th>\n",
              "      <th>image_name</th>\n",
              "      <th>select</th>\n",
              "    </tr>\n",
              "  </thead>\n",
              "  <tbody>\n",
              "    <tr>\n",
              "      <th>0</th>\n",
              "      <td>1</td>\n",
              "      <td>0</td>\n",
              "      <td>0</td>\n",
              "      <td>LPNt45</td>\n",
              "      <td>True</td>\n",
              "    </tr>\n",
              "    <tr>\n",
              "      <th>1</th>\n",
              "      <td>1</td>\n",
              "      <td>0</td>\n",
              "      <td>1</td>\n",
              "      <td>LPNt23</td>\n",
              "      <td>True</td>\n",
              "    </tr>\n",
              "    <tr>\n",
              "      <th>2</th>\n",
              "      <td>1</td>\n",
              "      <td>0</td>\n",
              "      <td>2</td>\n",
              "      <td>LPNt03</td>\n",
              "      <td>True</td>\n",
              "    </tr>\n",
              "    <tr>\n",
              "      <th>3</th>\n",
              "      <td>1</td>\n",
              "      <td>0</td>\n",
              "      <td>3</td>\n",
              "      <td>LPNt44</td>\n",
              "      <td>True</td>\n",
              "    </tr>\n",
              "    <tr>\n",
              "      <th>4</th>\n",
              "      <td>1</td>\n",
              "      <td>1</td>\n",
              "      <td>0</td>\n",
              "      <td>LPNt06</td>\n",
              "      <td>False</td>\n",
              "    </tr>\n",
              "  </tbody>\n",
              "</table>\n",
              "</div>"
            ],
            "text/plain": [
              "   trial  row  col image_name  select\n",
              "0      1    0    0     LPNt45    True\n",
              "1      1    0    1     LPNt23    True\n",
              "2      1    0    2     LPNt03    True\n",
              "3      1    0    3     LPNt44    True\n",
              "4      1    1    0     LPNt06   False"
            ]
          },
          "metadata": {
            "tags": []
          },
          "execution_count": 60
        }
      ]
    },
    {
      "cell_type": "code",
      "metadata": {
        "id": "ElIvXuHvVGbn",
        "colab_type": "code",
        "colab": {}
      },
      "source": [
        ""
      ],
      "execution_count": null,
      "outputs": []
    }
  ]
}